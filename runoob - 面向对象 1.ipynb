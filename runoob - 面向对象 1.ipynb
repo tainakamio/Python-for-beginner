{
 "cells": [
  {
   "cell_type": "markdown",
   "metadata": {},
   "source": [
    "# Object-oriented"
   ]
  },
  {
   "cell_type": "markdown",
   "metadata": {},
   "source": [
    "## 1.私有属性"
   ]
  },
  {
   "cell_type": "markdown",
   "metadata": {},
   "source": [
    "构造people类，公共属性为name，age，私有属性weight。属性的默认值：name为risa，age为17，weight为50.\n",
    "\n",
    "定义方法speak，以“xxx今年xx岁”的形式显示文本。构造实例p，测试。"
   ]
  },
  {
   "cell_type": "code",
   "execution_count": null,
   "metadata": {},
   "outputs": [],
   "source": []
  },
  {
   "cell_type": "markdown",
   "metadata": {},
   "source": [
    "## 2.单继承"
   ]
  },
  {
   "cell_type": "markdown",
   "metadata": {},
   "source": [
    "构造student类，继承people类。新加入属性grade，默认为3.\n",
    "\n",
    "在student类中重写speak方法，显示“xxx今年读x年级”。构造实例s，测试。\n"
   ]
  },
  {
   "cell_type": "code",
   "execution_count": null,
   "metadata": {},
   "outputs": [],
   "source": []
  },
  {
   "cell_type": "markdown",
   "metadata": {},
   "source": [
    "## 3.多继承"
   ]
  },
  {
   "cell_type": "markdown",
   "metadata": {},
   "source": [
    "先写另一个父类speaker，具有公共属性name，topic，分别默认为'john','art'；具有方法speak，显示“xxx演讲主题是xx”文本。\n",
    "\n",
    "再写一个子类sample，继承people，speaker两个父类。构造它的一个实例叫test，并调用speak方法。"
   ]
  },
  {
   "cell_type": "code",
   "execution_count": null,
   "metadata": {},
   "outputs": [],
   "source": []
  },
  {
   "cell_type": "markdown",
   "metadata": {},
   "source": [
    "## 4.重写专有方法"
   ]
  },
  {
   "cell_type": "markdown",
   "metadata": {},
   "source": [
    "写一个vector类，用于二元向量加法。重写__str__, __add__这两个专有方法，使之适合于向量。\n",
    "\n",
    "说明：__str__方法返回一个对象的描述信息（文本要自己编辑）；__add__方法就是做加法，用+号即可调用。"
   ]
  },
  {
   "cell_type": "markdown",
   "metadata": {},
   "source": []
  }
 ],
 "metadata": {
  "language_info": {
   "name": "python"
  },
  "orig_nbformat": 4
 },
 "nbformat": 4,
 "nbformat_minor": 2
}
